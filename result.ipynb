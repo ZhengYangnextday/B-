{
 "cells": [
  {
   "cell_type": "code",
   "execution_count": 1,
   "metadata": {},
   "outputs": [],
   "source": [
    "import pandas as pd\n",
    "df = pd.DataFrame(columns=['名字','简介','粉丝数','点赞数'])\n",
    "###创建数据存储文件"
   ]
  },
  {
   "cell_type": "code",
   "execution_count": 26,
   "metadata": {},
   "outputs": [],
   "source": [
    "import requests\n",
    "import json\n",
    "\n",
    "headers= {\n",
    "    \"Accept\": \"text/html,application/xhtml+xml,application/xml;q=0.9,image/avif,image/webp,image/apng,*/*;q=0.8,application/signed-exchange;v=b3;q=0.7\", \n",
    "    \"Accept-Encoding\": \"gzip, deflate, br\", \n",
    "    \"Accept-Language\": \"zh-CN,zh;q=0.9\", \n",
    "    \"Cache-Control\": \"max-age=0\",\n",
    "    \"Sec-Fetch-Dest\": \"document\",\n",
    "    \"Sec-Fetch-Mode\": \"navigate\",\n",
    "    \"Sec-Fetch-Site\": \"none\",\n",
    "    \"Sec-Fetch-User\": \"?1\",\n",
    "    \"Upgrade-Insecure-Requests\": \"1\",\n",
    "    \"User-Agent\": \"Mozilla/5.0 (Windows NT 10.0; Win64; x64) AppleWebKit/537.36 (KHTML, like Gecko) Chrome/114.0.0.0 Safari/537.36\"}\n",
    "###用这个header可以解决获取不到的问题\n",
    "\n",
    "from bs4 import BeautifulSoup\n",
    "import time\n",
    "def analyze_upspace(id: int):\n",
    "    fan_num = 0 ###粉丝数\n",
    "    good_num = 0 ###点赞数\n",
    "    id = str(id)\n",
    "    stat =  'https://api.bilibili.com/x/relation/stat?vmid=' + id\n",
    "    upstat =  'https://api.bilibili.com/x/space/upstat?mid=' + id\n",
    "    stat = requests.get(stat, headers=headers)\n",
    "    stat = json.loads(stat.text)\n",
    "    if(stat['data']):\n",
    "        stat = stat['data']\n",
    "        fan_num = int(stat['follower'])\n",
    "    upstat = requests.get(upstat, headers=headers)\n",
    "    print(upstat.text)\n",
    "    upstat = json.loads(upstat.text)\n",
    "    if(upstat['data']):\n",
    "        upstat = upstat['data']\n",
    "        good_num = int(upstat['likes'])\n",
    "    ### 这里可能会崩掉，可能是服务器的问题\n",
    "\n",
    "    ### stat['following'] - 关注数\n",
    "    # upstat['archive']['view'] - 视频播放量\n",
    "    # upstat['article']['view'] - 文章浏览量\n",
    "\n",
    "    #name = \"\" ###名字，用来比较确认(舍弃)\n",
    "    #info =  'https://api.bilibili.com/x/space/wbi/acc/info?mid=' + id + '&token=&platform=web&web_location=1550101'\n",
    "    #info = requests.get(info)\n",
    "    #info = json.loads(info.text)\n",
    "    #print(info)\n",
    "    #info = info['data']\n",
    "    # print(info)\n",
    "    #name = info['name']\n",
    "    ### 读取姓名的链接失效了...\n",
    "    return fan_num, good_num"
   ]
  },
  {
   "cell_type": "code",
   "execution_count": 27,
   "metadata": {},
   "outputs": [
    {
     "name": "stdout",
     "output_type": "stream",
     "text": [
      "{\"code\":0,\"message\":\"0\",\"ttl\":1,\"data\":{}}\n"
     ]
    },
    {
     "data": {
      "text/plain": [
       "(4, 0)"
      ]
     },
     "execution_count": 27,
     "metadata": {},
     "output_type": "execute_result"
    }
   ],
   "source": [
    "analyze_upspace(333777)"
   ]
  },
  {
   "cell_type": "code",
   "execution_count": 3,
   "metadata": {},
   "outputs": [],
   "source": [
    "top_up = 'https://api.bilibili.com/x/activity/operation/list?pn=1&ps=50&source_id=63a14c147e8469700e19a45d'\n",
    "top_up = requests.get(top_up)\n",
    "top_up = json.loads(top_up.text)\n",
    "informations = top_up['data']['list']\n",
    "for info in informations:\n",
    "    id = int(info['object']['mid'])\n",
    "    name = info['object']['name']\n",
    "    desc = info[\"properties\"]['desc']\n",
    "    fan_num, good_num = analyze_upspace(id)\n",
    "    df = df.append({'名字': name,'简介': desc,'粉丝数': fan_num, '点赞数': good_num},ignore_index=True)"
   ]
  },
  {
   "cell_type": "code",
   "execution_count": 4,
   "metadata": {},
   "outputs": [],
   "source": [
    "df.to_csv(\"data.csv\")"
   ]
  },
  {
   "cell_type": "code",
   "execution_count": null,
   "metadata": {},
   "outputs": [],
   "source": [
    "def search_bilibili_by_name(name: str):\n",
    "    fan_num = 0 ###粉丝数\n",
    "    good_num = 0 ###点赞数\n",
    "    url = 'https://search.bilibili.com/upuser?keyword=' + name\n",
    "    response = requests.get(url)\n",
    "    html = response.text\n",
    "    soup = BeautifulSoup(html, 'html.parser')\n",
    "    related_informations = soup.find_all('div', {'class' : \"col_6 col_md_4 mb_x60\"})\n",
    "    found = False\n",
    "    for information in related_informations:\n",
    "        space_link = information.find('a', {'class', 'mr_md'})\n",
    "        space_link = space_link.get('href')\n",
    "        found = True\n",
    "        break\n",
    "    if(not found):\n",
    "        print(f\"没有找到名字为{name}的UP主\")\n",
    "    return fan_num, good_num\n",
    "### 这个方法有点问题，b站采用异步查询的方法，用这个方法耗时太长"
   ]
  },
  {
   "cell_type": "code",
   "execution_count": 4,
   "metadata": {},
   "outputs": [
    {
     "name": "stderr",
     "output_type": "stream",
     "text": [
      "C:\\Windows\\Temp\\ipykernel_19832\\3001865980.py:4: DeprecationWarning: executable_path has been deprecated, please pass in a Service object\n",
      "  driver = webdriver.Chrome(r\"C:/Program Files/Google/Chrome/Application/chromedriver.exe\")\n"
     ]
    }
   ],
   "source": [
    "### 这里采用的思想是希望通过模拟浏览器减缓异步，目前舍弃(无法找到id)\n",
    "from selenium import webdriver\n",
    "from selenium.webdriver.chromium import service\n",
    "driver = webdriver.Chrome(r\"C:/Program Files/Google/Chrome/Application/chromedriver.exe\")\n",
    "\n",
    "'''\n",
    "第一步: 获取所有百大UP主的名字\n",
    "'''\n",
    "url = 'https://www.bilibili.com/BPU2022#/poweruplist'\n",
    "driver.get(url)\n",
    "\n",
    "import time\n",
    "time.sleep(6)###由于采用了动态读取，因此必须给浏览器足够时间来缓存\n",
    "\n",
    "html = driver.page_source\n",
    "\n",
    "from selenium.webdriver.common.action_chains import ActionChains\n",
    "\n",
    "\n",
    "soup = BeautifulSoup(html, 'lxml')\n",
    "div = soup.find('div', {'id': 'app'}).find('div', {'class': 'power-up-total-list'}).find('div', {'class': 'main-content'}).find('div', {'class': 'list'})\n",
    "lis = div.find_all('li', {'class': 'f-sb-s'})\n",
    "for li in lis:\n",
    "    name = li.find('p', {'class':'name'})\n",
    "    desc = li.find('p', {'class':'desc'})\n",
    "    name = name.text\n",
    "    desc = desc.text\n",
    "    df = df.append({'名字': name, '简介': desc ,'粉丝数': \"-1\", '点赞数': \"-1\"}, ignore_index=True)"
   ]
  },
  {
   "cell_type": "code",
   "execution_count": 5,
   "metadata": {},
   "outputs": [],
   "source": [
    "df.to_csv(\"data.csv\")"
   ]
  }
 ],
 "metadata": {
  "kernelspec": {
   "display_name": "base",
   "language": "python",
   "name": "python3"
  },
  "language_info": {
   "codemirror_mode": {
    "name": "ipython",
    "version": 3
   },
   "file_extension": ".py",
   "mimetype": "text/x-python",
   "name": "python",
   "nbconvert_exporter": "python",
   "pygments_lexer": "ipython3",
   "version": "3.9.7"
  },
  "orig_nbformat": 4
 },
 "nbformat": 4,
 "nbformat_minor": 2
}
